{
 "cells": [
  {
   "cell_type": "code",
   "execution_count": 14,
   "metadata": {},
   "outputs": [],
   "source": [
    "import multiprocessing as mp\n",
    "import networkx as nx\n",
    "import matplotlib.pyplot as plt\n",
    "import seaborn as sns\n",
    "import numpy as np\n",
    "import pickle"
   ]
  },
  {
   "cell_type": "code",
   "execution_count": 2,
   "metadata": {},
   "outputs": [],
   "source": [
    "SMALL_SIZE = 14\n",
    "MEDIUM_SIZE = 18\n",
    "BIGGER_SIZE = 22\n",
    "\n",
    "plt.rc('font', size=SMALL_SIZE)          # controls default text sizes\n",
    "plt.rc('axes', titlesize=SMALL_SIZE)     # fontsize of the axes title\n",
    "plt.rc('axes', labelsize=MEDIUM_SIZE)    # fontsize of the x and y labels\n",
    "plt.rc('xtick', labelsize=SMALL_SIZE)    # fontsize of the tick labels\n",
    "plt.rc('ytick', labelsize=SMALL_SIZE)    # fontsize of the tick labels\n",
    "plt.rc('legend', fontsize=SMALL_SIZE)    # legend fontsize\n",
    "plt.rc('figure', titlesize=BIGGER_SIZE)  # fontsize of the figure title\n",
    "\n",
    "plt.rcParams['figure.figsize'] = [8, 5]"
   ]
  },
  {
   "cell_type": "code",
   "execution_count": 3,
   "metadata": {},
   "outputs": [],
   "source": [
    "def mundo_red_NWS(n_nodos, k, p, confinados = 0.3):\n",
    "\n",
    "    G = nx.newman_watts_strogatz_graph(n_nodos, k, p, seed=None)\n",
    "    numero_nodos_confinados = int(n_nodos * confinados)\n",
    "    indices_nodo = list(range(0, G.number_of_nodes()))\n",
    "    np.random.shuffle(indices_nodo)\n",
    "    \n",
    "    for ii in indices_nodo[0:numero_nodos_confinados]:\n",
    "        G.remove_node(ii)\n",
    "       \n",
    "    for ii in list(G.nodes()):\n",
    "        G.nodes[ii][\"estado\"] = 0 \n",
    "    \n",
    "    return G\n",
    "\n",
    "def mundo_red_WS(n_nodos, k, p, confinados = 0.3):\n",
    "\n",
    "    G = nx.connected_watts_strogatz_graph(n_nodos, k, p, tries=100)\n",
    "    numero_nodos_confinados = int(n_nodos * confinados)\n",
    "    indices_nodo = list(range(0, G.number_of_nodes()))\n",
    "    np.random.shuffle(indices_nodo)\n",
    "    \n",
    "    for ii in indices_nodo[0:numero_nodos_confinados]:\n",
    "        G.remove_node(ii)\n",
    "       \n",
    "    for ii in list(G.nodes()):\n",
    "        G.nodes[ii][\"estado\"] = 0 \n",
    "    \n",
    "    return G\n",
    "\n",
    "def mundo_red_BA(n_nodos, m, confinados = 0.3):\n",
    "    \n",
    "    G = nx.barabasi_albert_graph(n_nodos, m)\n",
    "    numero_nodos_confinados = int(n_nodos * confinados)\n",
    "    indices_nodo = list(range(0, G.number_of_nodes()))\n",
    "    np.random.shuffle(indices_nodo)\n",
    "    \n",
    "    for ii in indices_nodo[0:numero_nodos_confinados]:\n",
    "        G.remove_node(ii)\n",
    "       \n",
    "    for ii in list(G.nodes()):\n",
    "        G.nodes[ii][\"estado\"] = 0 \n",
    "    \n",
    "    return G\n",
    "\n",
    "def infeccion_inicial(G):\n",
    "    \n",
    "    if G.number_of_nodes() > 0:\n",
    "    \n",
    "        nodos_restantes = list(G.nodes())\n",
    "        np.random.shuffle(nodos_restantes)\n",
    "        paciente_cero = nodos_restantes[0]\n",
    "        G.nodes[paciente_cero][\"estado\"] = 1\n",
    "\n",
    "def propagacion_infeccion(G):\n",
    "    \n",
    "    if G.number_of_nodes() > 0:\n",
    "    \n",
    "        nuevos_infectados = []\n",
    "    \n",
    "        for ii in list(G.nodes()):\n",
    "            if G.nodes[ii][\"estado\"] == 1:\n",
    "                nuevos_infectados.append(ii)    \n",
    "    \n",
    "        while len(nuevos_infectados)>0:\n",
    "            lista_auxiliar = []\n",
    "            for nuevo_infectado in nuevos_infectados:\n",
    "                for vecino in G.neighbors(nuevo_infectado):\n",
    "                    if G.nodes[vecino][\"estado\"]==0:\n",
    "                        G.nodes[vecino][\"estado\"]=1\n",
    "                        lista_auxiliar.append(vecino)\n",
    "            nuevos_infectados=lista_auxiliar\n",
    "\n",
    "def porcentaje_infectados(G):\n",
    "    \n",
    "    if G.number_of_nodes() > 0:\n",
    "    \n",
    "        numero_infectados = 0\n",
    "        for ii in list(G.nodes()):\n",
    "            if G.nodes[ii][\"estado\"] == 1:\n",
    "                numero_infectados += 1\n",
    "            \n",
    "        return numero_infectados/(G.number_of_nodes())\n",
    "    else:\n",
    "        return 0.0\n",
    "\n",
    "def distribucion_grado(G):\n",
    "\n",
    "    lista_grado = []\n",
    "\n",
    "    for indice_nodo, grado_nodo in G.degree():\n",
    "        lista_grado.append(grado_nodo)\n",
    "    \n",
    "    kmax=np.max(lista_grado)\n",
    "    \n",
    "    print('Kmax = {}'.format(kmax))\n",
    "    print('Kmean = {}'.format(np.average(lista_grado)))\n",
    "    \n",
    "    frecuencia_grado = np.zeros(kmax+1)\n",
    "    \n",
    "    for ii in lista_grado:\n",
    "        frecuencia_grado[ii] += 1\n",
    "\n",
    "    x = np.linspace(0, kmax, num=kmax+1)\n",
    "\n",
    "    y_sin_ceros = []\n",
    "    x_sin_ceros = []\n",
    "\n",
    "    for ii in range(len(frecuencia_grado)):\n",
    "        if frecuencia_grado[ii]>0:\n",
    "            y_sin_ceros.append(frecuencia_grado[ii])\n",
    "            x_sin_ceros.append(x[ii])\n",
    "\n",
    "\n",
    "    return x_sin_ceros, y_sin_ceros\n"
   ]
  },
  {
   "cell_type": "markdown",
   "metadata": {},
   "source": [
    "# Newton Watson - Strogatz"
   ]
  },
  {
   "cell_type": "code",
   "execution_count": null,
   "metadata": {},
   "outputs": [],
   "source": [
    "n_nodos = 10000\n",
    "m = 6\n",
    "p = 0.4\n",
    "sistema = mundo_red_NWS(n_nodos, m, p, confinados=0)\n",
    "hx,hy = distribucion_grado(sistema)\n",
    "plt.scatter(hx, hy)\n",
    "#plt.xscale('log')\n",
    "#plt.yscale('log')\n",
    "plt.show()"
   ]
  },
  {
   "cell_type": "code",
   "execution_count": null,
   "metadata": {},
   "outputs": [],
   "source": [
    "def run(confinados):\n",
    "    print(confinados)\n",
    "    n_nodes=10000\n",
    "    m=6\n",
    "    p=0.4\n",
    "    n_realizaciones=100\n",
    "    lista_porcentaje_infectados = []\n",
    "    for _ in range(n_realizaciones):\n",
    "        sistema = mundo_red_NWS(n_nodes, m, p, confinados)\n",
    "        infeccion_inicial(sistema)\n",
    "        propagacion_infeccion(sistema)\n",
    "        porcentaje = porcentaje_infectados(sistema)\n",
    "        lista_porcentaje_infectados.append(porcentaje)\n",
    "    return confinados, np.mean(lista_porcentaje_infectados)"
   ]
  },
  {
   "cell_type": "code",
   "execution_count": null,
   "metadata": {},
   "outputs": [],
   "source": [
    "confinados = np.linspace(0.0, 1.0, num=21)\n",
    "pool = mp.Pool(4)\n",
    "result = pool.map(run, confinados)\n",
    "pool.close()\n",
    "result=np.array(result)\n",
    "argsort = np.argsort(result[:,0])\n",
    "confinados=result[argsort,0]\n",
    "infectados_promedio=result[argsort,1]"
   ]
  },
  {
   "cell_type": "code",
   "execution_count": null,
   "metadata": {},
   "outputs": [],
   "source": [
    "plt.plot(confinados*100,np.array(infectados_promedio)*100)\n",
    "plt.axvline(x=59, ymin=0, ymax=1, color=\"red\")\n",
    "plt.ylabel(\"% Infectados\")\n",
    "plt.xlabel(\"% en confinamiento\")\n",
    "plt.show()"
   ]
  },
  {
   "cell_type": "markdown",
   "metadata": {},
   "source": [
    "# Compact Watson - Strogatz"
   ]
  },
  {
   "cell_type": "code",
   "execution_count": 7,
   "metadata": {},
   "outputs": [
    {
     "name": "stdout",
     "output_type": "stream",
     "text": [
      "Kmax = 17\n",
      "Kmean = 8.0\n"
     ]
    },
    {
     "data": {
      "image/png": "[encoded data removed]",
      "text/plain": [
       "<Figure size 576x360 with 1 Axes>"
      ]
     },
     "metadata": {
      "needs_background": "light"
     },
     "output_type": "display_data"
    }
   ],
   "source": [
    "n_nodos = 10000\n",
    "m = 8\n",
    "p = 0.7\n",
    "sistema = mundo_red_WS(n_nodos, m, p, confinados=0)\n",
    "hx,hy = distribucion_grado(sistema)\n",
    "\n",
    "plt.rcParams['figure.figsize'] = [8, 5]\n",
    "plt.scatter(hx, hy)\n",
    "plt.ylabel(\"Número Nodos\")\n",
    "plt.xlabel(\"Número Vecinos\")\n",
    "plt.savefig('dist_grado_WS.png', dpi=300, transparent=True)\n",
    "plt.show()"
   ]
  },
  {
   "cell_type": "code",
   "execution_count": 10,
   "metadata": {},
   "outputs": [],
   "source": [
    "def run(confinados):\n",
    "    print(confinados)\n",
    "    n_nodes=10000\n",
    "    m=8\n",
    "    p=0.7\n",
    "    n_realizaciones=500\n",
    "    lista_porcentaje_infectados = []\n",
    "    for _ in range(n_realizaciones):\n",
    "        sistema = mundo_red_WS(n_nodes, m, p, confinados)\n",
    "        infeccion_inicial(sistema)\n",
    "        propagacion_infeccion(sistema)\n",
    "        porcentaje = porcentaje_infectados(sistema)\n",
    "        lista_porcentaje_infectados.append(porcentaje)\n",
    "    return confinados, np.mean(lista_porcentaje_infectados)"
   ]
  },
  {
   "cell_type": "code",
   "execution_count": 11,
   "metadata": {},
   "outputs": [
    {
     "name": "stdout",
     "output_type": "stream",
     "text": [
      "0.0\n",
      "0.2\n",
      "0.06666666666666667\n",
      "0.13333333333333333\n",
      "0.23333333333333334\n",
      "0.16666666666666666\n",
      "0.03333333333333333\n",
      "0.1\n",
      "0.26666666666666666\n",
      "0.3333333333333333\n",
      "0.4\n",
      "0.4666666666666667\n",
      "0.3\n",
      "0.36666666666666664\n",
      "0.5\n",
      "0.43333333333333335\n",
      "0.5333333333333333\n",
      "0.6\n",
      "0.6666666666666666\n",
      "0.7333333333333333\n",
      "0.7666666666666666\n",
      "0.7\n",
      "0.6333333333333333\n",
      "0.5666666666666667\n",
      "0.8\n",
      "0.8666666666666667\n",
      "0.9333333333333333\n",
      "1.0\n",
      "0.8333333333333334\n",
      "0.9\n",
      "0.9666666666666667\n"
     ]
    }
   ],
   "source": [
    "confinados = np.linspace(0.0, 1.0, num=31)\n",
    "pool = mp.Pool(4)\n",
    "result = pool.map(run, confinados)\n",
    "pool.close()\n",
    "result=np.array(result)\n",
    "argsort = np.argsort(result[:,0])\n",
    "confinados=result[argsort,0]\n",
    "infectados_promedio=result[argsort,1]"
   ]
  },
  {
   "cell_type": "code",
   "execution_count": 15,
   "metadata": {},
   "outputs": [],
   "source": [
    "if False:\n",
    "    fff = open('data_WS.oup','wb')\n",
    "    pickle.dump(confinados,fff)\n",
    "    pickle.dump(infectados_promedio,fff)\n",
    "    fff.close()"
   ]
  },
  {
   "cell_type": "code",
   "execution_count": 16,
   "metadata": {},
   "outputs": [],
   "source": [
    "if False:\n",
    "    fff = open('data_WS.oup','rb')\n",
    "    ooo = pickle.load(fff)\n",
    "    inf = pickle.load(fff)\n",
    "    fff.close()"
   ]
  },
  {
   "cell_type": "code",
   "execution_count": 23,
   "metadata": {},
   "outputs": [
    {
     "data": {
      "image/png": "[encoded data removed]",
      "text/plain": [
       "<Figure size 576x360 with 1 Axes>"
      ]
     },
     "metadata": {
      "needs_background": "light"
     },
     "output_type": "display_data"
    }
   ],
   "source": [
    "plt.plot(confinados*100,np.array(infectados_promedio)*100, lw=3)\n",
    "plt.axvline(x=59, ymin=0, ymax=1, color=\"red\", lw=1, ls='--')\n",
    "plt.ylabel(\"% Infectados\")\n",
    "plt.xlabel(\"% Confinamiento\")\n",
    "plt.savefig('transicion_WS.png', dpi=300, transparent=True)\n",
    "plt.show()"
   ]
  },
  {
   "cell_type": "markdown",
   "metadata": {},
   "source": [
    "# Barabasi - Albert"
   ]
  },
  {
   "cell_type": "code",
   "execution_count": 9,
   "metadata": {},
   "outputs": [
    {
     "name": "stdout",
     "output_type": "stream",
     "text": [
      "Kmax = 436\n",
      "Kmean = 7.9968\n"
     ]
    },
    {
     "data": {
      "image/png": "[encoded data removed]",
      "text/plain": [
       "<Figure size 576x360 with 1 Axes>"
      ]
     },
     "metadata": {
      "needs_background": "light"
     },
     "output_type": "display_data"
    }
   ],
   "source": [
    "n_nodos = 10000\n",
    "m = 4\n",
    "sistema = mundo_red_BA(n_nodos, m, confinados=0)\n",
    "hx,hy = distribucion_grado(sistema)\n",
    "\n",
    "plt.rcParams['figure.figsize'] = [8, 5]\n",
    "plt.scatter(hx, hy)\n",
    "plt.yscale('log')\n",
    "plt.xscale('log')\n",
    "plt.ylabel(\"Número Nodos\")\n",
    "plt.xlabel(\"Número Vecinos\")\n",
    "plt.savefig('dist_grado_BA.png', dpi=300, transparent=True)\n",
    "plt.show()"
   ]
  },
  {
   "cell_type": "code",
   "execution_count": 31,
   "metadata": {},
   "outputs": [],
   "source": [
    "def run(confinados):\n",
    "    print(confinados)\n",
    "    n_nodes=10000\n",
    "    m=4\n",
    "    n_realizaciones=1000\n",
    "    lista_porcentaje_infectados = []\n",
    "    for _ in range(n_realizaciones):\n",
    "        sistema = mundo_red_BA(n_nodes, m, confinados)\n",
    "        infeccion_inicial(sistema)\n",
    "        propagacion_infeccion(sistema)\n",
    "        porcentaje = porcentaje_infectados(sistema)\n",
    "        lista_porcentaje_infectados.append(porcentaje)\n",
    "    return confinados, np.mean(lista_porcentaje_infectados)"
   ]
  },
  {
   "cell_type": "code",
   "execution_count": 32,
   "metadata": {},
   "outputs": [
    {
     "name": "stdout",
     "output_type": "stream",
     "text": [
      "0.0\n",
      "0.13333333333333333\n",
      "0.2\n",
      "0.06666666666666667\n",
      "0.23333333333333334\n",
      "0.16666666666666666\n",
      "0.1\n",
      "0.03333333333333333\n",
      "0.26666666666666666\n",
      "0.3333333333333333\n",
      "0.4\n",
      "0.4666666666666667\n",
      "0.3\n",
      "0.36666666666666664\n",
      "0.43333333333333335\n",
      "0.5\n",
      "0.5333333333333333\n",
      "0.6\n",
      "0.6666666666666666\n",
      "0.7333333333333333\n",
      "0.7666666666666666\n",
      "0.7\n",
      "0.6333333333333333\n",
      "0.5666666666666667\n",
      "0.8\n",
      "0.8666666666666667\n",
      "0.9333333333333333\n",
      "1.0\n",
      "0.8333333333333334\n",
      "0.9\n",
      "0.9666666666666667\n"
     ]
    }
   ],
   "source": [
    "confinados = np.linspace(0.0, 1.0, num=31)\n",
    "pool = mp.Pool(4)\n",
    "result = pool.map(run, confinados)\n",
    "pool.close()\n",
    "result=np.array(result)\n",
    "argsort = np.argsort(result[:,0])\n",
    "confinados=result[argsort,0]\n",
    "infectados_promedio=result[argsort,1]"
   ]
  },
  {
   "cell_type": "code",
   "execution_count": 34,
   "metadata": {},
   "outputs": [],
   "source": [
    "if False:\n",
    "    fff = open('data_BA.oup','wb')\n",
    "    pickle.dump(confinados,fff)\n",
    "    pickle.dump(infectados_promedio,fff)\n",
    "    fff.close()"
   ]
  },
  {
   "cell_type": "code",
   "execution_count": 35,
   "metadata": {},
   "outputs": [],
   "source": [
    "if False:\n",
    "    fff = open('data_BA.oup','rb')\n",
    "    ooo = pickle.load(fff)\n",
    "    inf = pickle.load(fff)\n",
    "    fff.close()"
   ]
  },
  {
   "cell_type": "code",
   "execution_count": 33,
   "metadata": {},
   "outputs": [
    {
     "data": {
      "image/png": "[encoded data removed]",
      "text/plain": [
       "<Figure size 576x360 with 1 Axes>"
      ]
     },
     "metadata": {
      "needs_background": "light"
     },
     "output_type": "display_data"
    }
   ],
   "source": [
    "plt.plot(confinados*100,np.array(infectados_promedio)*100, lw=3)\n",
    "plt.axvline(x=59, ymin=0, ymax=1, color=\"red\", lw=1, ls='--')\n",
    "plt.ylabel(\"% Infectados\")\n",
    "plt.xlabel(\"% Confinamiento\")\n",
    "plt.savefig('transicion_BA.png', dpi=300, transparent=True)\n",
    "plt.show()"
   ]
  },
  {
   "cell_type": "code",
   "execution_count": null,
   "metadata": {},
   "outputs": [],
   "source": []
  }
 ],
 "metadata": {
  "kernelspec": {
   "display_name": "Python 3",
   "language": "python",
   "name": "python3"
  },
  "language_info": {
   "codemirror_mode": {
    "name": "ipython",
    "version": 3
   },
   "file_extension": ".py",
   "mimetype": "text/x-python",
   "name": "python",
   "nbconvert_exporter": "python",
   "pygments_lexer": "ipython3",
   "version": "3.7.7"
  }
 },
 "nbformat": 4,
 "nbformat_minor": 4
}
