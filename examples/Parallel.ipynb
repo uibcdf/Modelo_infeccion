{
 "cells": [
  {
   "cell_type": "code",
   "execution_count": 1,
   "metadata": {},
   "outputs": [],
   "source": [
    "import multiprocessing as mp\n",
    "import networkx as nx\n",
    "import matplotlib.pyplot as plt\n",
    "import seaborn as sns\n",
    "import numpy as np"
   ]
  },
  {
   "cell_type": "code",
   "execution_count": 16,
   "metadata": {},
   "outputs": [],
   "source": [
    "def mundo_red_NWS(n_nodos, k, p, confinados = 0.3):\n",
    "\n",
    "    G = nx.newman_watts_strogatz_graph(n_nodos, k, p, seed=None)\n",
    "    numero_nodos_confinados = int(n_nodos * confinados)\n",
    "    indices_nodo = list(range(0, G.number_of_nodes()))\n",
    "    np.random.shuffle(indices_nodo)\n",
    "    \n",
    "    for ii in indices_nodo[0:numero_nodos_confinados]:\n",
    "        G.remove_node(ii)\n",
    "       \n",
    "    for ii in list(G.nodes()):\n",
    "        G.nodes[ii][\"estado\"] = 0 \n",
    "    \n",
    "    return G\n",
    "\n",
    "def mundo_red_WS(n_nodos, k, p, confinados = 0.3):\n",
    "\n",
    "    G = nx.connected_watts_strogatz_graph(n_nodos, k, p, tries=100)\n",
    "    numero_nodos_confinados = int(n_nodos * confinados)\n",
    "    indices_nodo = list(range(0, G.number_of_nodes()))\n",
    "    np.random.shuffle(indices_nodo)\n",
    "    \n",
    "    for ii in indices_nodo[0:numero_nodos_confinados]:\n",
    "        G.remove_node(ii)\n",
    "       \n",
    "    for ii in list(G.nodes()):\n",
    "        G.nodes[ii][\"estado\"] = 0 \n",
    "    \n",
    "    return G\n",
    "\n",
    "def mundo_red_BA(n_nodos, m, confinados = 0.3):\n",
    "    \n",
    "    G = nx.barabasi_albert_graph(n_nodos, m)\n",
    "    numero_nodos_confinados = int(n_nodos * confinados)\n",
    "    indices_nodo = list(range(0, G.number_of_nodes()))\n",
    "    np.random.shuffle(indices_nodo)\n",
    "    \n",
    "    for ii in indices_nodo[0:numero_nodos_confinados]:\n",
    "        G.remove_node(ii)\n",
    "       \n",
    "    for ii in list(G.nodes()):\n",
    "        G.nodes[ii][\"estado\"] = 0 \n",
    "    \n",
    "    return G\n",
    "\n",
    "def infeccion_inicial(G):\n",
    "    \n",
    "    if G.number_of_nodes() > 0:\n",
    "    \n",
    "        nodos_restantes = list(G.nodes())\n",
    "        np.random.shuffle(nodos_restantes)\n",
    "        paciente_cero = nodos_restantes[0]\n",
    "        G.nodes[paciente_cero][\"estado\"] = 1\n",
    "\n",
    "def propagacion_infeccion(G):\n",
    "    \n",
    "    if G.number_of_nodes() > 0:\n",
    "    \n",
    "        nuevos_infectados = []\n",
    "    \n",
    "        for ii in list(G.nodes()):\n",
    "            if G.nodes[ii][\"estado\"] == 1:\n",
    "                nuevos_infectados.append(ii)    \n",
    "    \n",
    "        while len(nuevos_infectados)>0:\n",
    "            lista_auxiliar = []\n",
    "            for nuevo_infectado in nuevos_infectados:\n",
    "                for vecino in G.neighbors(nuevo_infectado):\n",
    "                    if G.nodes[vecino][\"estado\"]==0:\n",
    "                        G.nodes[vecino][\"estado\"]=1\n",
    "                        lista_auxiliar.append(vecino)\n",
    "            nuevos_infectados=lista_auxiliar\n",
    "\n",
    "def porcentaje_infectados(G):\n",
    "    \n",
    "    if G.number_of_nodes() > 0:\n",
    "    \n",
    "        numero_infectados = 0\n",
    "        for ii in list(G.nodes()):\n",
    "            if G.nodes[ii][\"estado\"] == 1:\n",
    "                numero_infectados += 1\n",
    "            \n",
    "        return numero_infectados/(G.number_of_nodes())\n",
    "    else:\n",
    "        return 0.0\n",
    "\n",
    "def distribucion_grado(G):\n",
    "\n",
    "    lista_grado = []\n",
    "\n",
    "    for indice_nodo, grado_nodo in G.degree():\n",
    "        lista_grado.append(grado_nodo)\n",
    "    \n",
    "    kmax=np.max(lista_grado)\n",
    "    \n",
    "    print('Kmax = {}'.format(kmax))\n",
    "    print('Kmean = {}'.format(np.average(lista_grado)))\n",
    "    \n",
    "    frecuencia_grado = np.zeros(kmax+1)\n",
    "    \n",
    "    for ii in lista_grado:\n",
    "        frecuencia_grado[ii] += 1\n",
    "\n",
    "    x = np.linspace(0, kmax, num=kmax+1)\n",
    "\n",
    "    y_sin_ceros = []\n",
    "    x_sin_ceros = []\n",
    "\n",
    "    for ii in range(len(frecuencia_grado)):\n",
    "        if frecuencia_grado[ii]>0:\n",
    "            y_sin_ceros.append(frecuencia_grado[ii])\n",
    "            x_sin_ceros.append(x[ii])\n",
    "\n",
    "\n",
    "    return x_sin_ceros, y_sin_ceros\n"
   ]
  },
  {
   "cell_type": "markdown",
   "metadata": {},
   "source": [
    "# Newton Watson - Strogatz"
   ]
  },
  {
   "cell_type": "code",
   "execution_count": 11,
   "metadata": {},
   "outputs": [
    {
     "name": "stdout",
     "output_type": "stream",
     "text": [
      "Kmax = 16\n",
      "Kmean = 8.4064\n"
     ]
    },
    {
     "data": {
      "image/png": "[encoded data removed]",
      "text/plain": [
       "<Figure size 432x288 with 1 Axes>"
      ]
     },
     "metadata": {
      "needs_background": "light"
     },
     "output_type": "display_data"
    }
   ],
   "source": [
    "n_nodos = 10000\n",
    "m = 6\n",
    "p = 0.4\n",
    "sistema = mundo_red_NWS(n_nodos, m, p, confinados=0)\n",
    "hx,hy = distribucion_grado(sistema)\n",
    "plt.scatter(hx, hy)\n",
    "#plt.xscale('log')\n",
    "#plt.yscale('log')\n",
    "plt.show()"
   ]
  },
  {
   "cell_type": "code",
   "execution_count": 39,
   "metadata": {},
   "outputs": [],
   "source": [
    "def run(confinados):\n",
    "    print(confinados)\n",
    "    n_nodes=10000\n",
    "    m=6\n",
    "    p=0.4\n",
    "    n_realizaciones=100\n",
    "    lista_porcentaje_infectados = []\n",
    "    for _ in range(n_realizaciones):\n",
    "        sistema = mundo_red_NWS(n_nodes, m, p, confinados)\n",
    "        infeccion_inicial(sistema)\n",
    "        propagacion_infeccion(sistema)\n",
    "        porcentaje = porcentaje_infectados(sistema)\n",
    "        lista_porcentaje_infectados.append(porcentaje)\n",
    "    return confinados, np.mean(lista_porcentaje_infectados)"
   ]
  },
  {
   "cell_type": "code",
   "execution_count": 40,
   "metadata": {},
   "outputs": [
    {
     "name": "stdout",
     "output_type": "stream",
     "text": [
      "0.1\n",
      "0.2\n",
      "0.0\n",
      "0.30000000000000004\n",
      "0.35000000000000003\n",
      "0.25\n",
      "0.15000000000000002\n",
      "0.05\n",
      "0.4\n",
      "0.5\n",
      "0.6000000000000001\n",
      "0.7000000000000001\n",
      "0.45\n",
      "0.55\n",
      "0.65\n",
      "0.75\n",
      "0.8\n",
      "0.9\n",
      "1.0\n",
      "0.8500000000000001\n",
      "0.9500000000000001\n"
     ]
    }
   ],
   "source": [
    "confinados = np.linspace(0.0, 1.0, num=21)\n",
    "pool = mp.Pool(4)\n",
    "result = pool.map(run, confinados)\n",
    "pool.close()\n",
    "result=np.array(result)\n",
    "argsort = np.argsort(result[:,0])\n",
    "confinados=result[argsort,0]\n",
    "infectados_promedio=result[argsort,1]"
   ]
  },
  {
   "cell_type": "code",
   "execution_count": 41,
   "metadata": {},
   "outputs": [
    {
     "data": {
      "image/png": "[encoded data removed]",
      "text/plain": [
       "<Figure size 432x288 with 1 Axes>"
      ]
     },
     "metadata": {
      "needs_background": "light"
     },
     "output_type": "display_data"
    }
   ],
   "source": [
    "plt.plot(confinados*100,np.array(infectados_promedio)*100)\n",
    "plt.axvline(x=59, ymin=0, ymax=1, color=\"red\")\n",
    "plt.ylabel(\"% Infectados\")\n",
    "plt.xlabel(\"% en confinamiento\")\n",
    "plt.show()"
   ]
  },
  {
   "cell_type": "markdown",
   "metadata": {},
   "source": [
    "# Compact Watson - Strogatz"
   ]
  },
  {
   "cell_type": "code",
   "execution_count": 35,
   "metadata": {},
   "outputs": [
    {
     "name": "stdout",
     "output_type": "stream",
     "text": [
      "Kmax = 17\n",
      "Kmean = 8.0\n"
     ]
    },
    {
     "data": {
      "image/png": "[encoded data removed]",
      "text/plain": [
       "<Figure size 432x288 with 1 Axes>"
      ]
     },
     "metadata": {
      "needs_background": "light"
     },
     "output_type": "display_data"
    }
   ],
   "source": [
    "n_nodos = 10000\n",
    "m = 8\n",
    "p = 0.7\n",
    "sistema = mundo_red_WS(n_nodos, m, p, confinados=0)\n",
    "hx,hy = distribucion_grado(sistema)\n",
    "plt.scatter(hx, hy)\n",
    "#plt.xscale('log')\n",
    "#plt.yscale('log')\n",
    "plt.show()"
   ]
  },
  {
   "cell_type": "code",
   "execution_count": 42,
   "metadata": {},
   "outputs": [],
   "source": [
    "def run(confinados):\n",
    "    print(confinados)\n",
    "    n_nodes=10000\n",
    "    m=8\n",
    "    p=0.7\n",
    "    n_realizaciones=100\n",
    "    lista_porcentaje_infectados = []\n",
    "    for _ in range(n_realizaciones):\n",
    "        sistema = mundo_red_WS(n_nodes, m, p, confinados)\n",
    "        infeccion_inicial(sistema)\n",
    "        propagacion_infeccion(sistema)\n",
    "        porcentaje = porcentaje_infectados(sistema)\n",
    "        lista_porcentaje_infectados.append(porcentaje)\n",
    "    return confinados, np.mean(lista_porcentaje_infectados)"
   ]
  },
  {
   "cell_type": "code",
   "execution_count": 43,
   "metadata": {},
   "outputs": [
    {
     "name": "stdout",
     "output_type": "stream",
     "text": [
      "0.0\n",
      "0.1\n",
      "0.2\n",
      "0.30000000000000004\n",
      "0.35000000000000003\n",
      "0.25\n",
      "0.15000000000000002\n",
      "0.05\n",
      "0.4\n",
      "0.5\n",
      "0.6000000000000001\n",
      "0.7000000000000001\n",
      "0.45\n",
      "0.55\n",
      "0.65\n",
      "0.75\n",
      "0.8\n",
      "0.9\n",
      "1.0\n",
      "0.9500000000000001\n",
      "0.8500000000000001\n"
     ]
    }
   ],
   "source": [
    "confinados = np.linspace(0.0, 1.0, num=21)\n",
    "pool = mp.Pool(4)\n",
    "result = pool.map(run, confinados)\n",
    "pool.close()\n",
    "result=np.array(result)\n",
    "argsort = np.argsort(result[:,0])\n",
    "confinados=result[argsort,0]\n",
    "infectados_promedio=result[argsort,1]"
   ]
  },
  {
   "cell_type": "code",
   "execution_count": 44,
   "metadata": {},
   "outputs": [
    {
     "data": {
      "image/png": "[encoded data removed]",
      "text/plain": [
       "<Figure size 432x288 with 1 Axes>"
      ]
     },
     "metadata": {
      "needs_background": "light"
     },
     "output_type": "display_data"
    }
   ],
   "source": [
    "plt.plot(confinados*100,np.array(infectados_promedio)*100)\n",
    "plt.axvline(x=59, ymin=0, ymax=1, color=\"red\")\n",
    "plt.ylabel(\"% Infectados\")\n",
    "plt.xlabel(\"% en confinamiento\")\n",
    "plt.show()"
   ]
  },
  {
   "cell_type": "markdown",
   "metadata": {},
   "source": [
    "# Barabasi - Albert"
   ]
  },
  {
   "cell_type": "code",
   "execution_count": 51,
   "metadata": {},
   "outputs": [
    {
     "name": "stdout",
     "output_type": "stream",
     "text": [
      "Kmax = 418\n",
      "Kmean = 3.9992\n"
     ]
    },
    {
     "data": {
      "image/png": "[encoded data removed]",
      "text/plain": [
       "<Figure size 432x288 with 1 Axes>"
      ]
     },
     "metadata": {
      "needs_background": "light"
     },
     "output_type": "display_data"
    }
   ],
   "source": [
    "n_nodos = 10000\n",
    "m = 4\n",
    "sistema = mundo_red_BA(n_nodos, m, confinados=0)\n",
    "hx,hy = distribucion_grado(sistema)\n",
    "plt.scatter(hx, hy)\n",
    "plt.xscale('log')\n",
    "plt.yscale('log')\n",
    "plt.show()"
   ]
  },
  {
   "cell_type": "code",
   "execution_count": 52,
   "metadata": {},
   "outputs": [],
   "source": [
    "def run(confinados):\n",
    "    print(confinados)\n",
    "    n_nodes=10000\n",
    "    m=4\n",
    "    n_realizaciones=100\n",
    "    lista_porcentaje_infectados = []\n",
    "    for _ in range(n_realizaciones):\n",
    "        sistema = mundo_red_BA(n_nodes, m, confinados)\n",
    "        infeccion_inicial(sistema)\n",
    "        propagacion_infeccion(sistema)\n",
    "        porcentaje = porcentaje_infectados(sistema)\n",
    "        lista_porcentaje_infectados.append(porcentaje)\n",
    "    return confinados, np.mean(lista_porcentaje_infectados)"
   ]
  },
  {
   "cell_type": "code",
   "execution_count": 53,
   "metadata": {},
   "outputs": [
    {
     "name": "stdout",
     "output_type": "stream",
     "text": [
      "0.1\n",
      "0.30000000000000004\n",
      "0.0\n",
      "0.2\n",
      "0.35000000000000003\n",
      "0.25\n",
      "0.15000000000000002\n",
      "0.05\n",
      "0.4\n",
      "0.5\n",
      "0.6000000000000001\n",
      "0.7000000000000001\n",
      "0.45\n",
      "0.55\n",
      "0.65\n",
      "0.75\n",
      "0.8\n",
      "0.9\n",
      "1.0\n",
      "0.9500000000000001\n",
      "0.8500000000000001\n"
     ]
    }
   ],
   "source": [
    "confinados = np.linspace(0.0, 1.0, num=21)\n",
    "pool = mp.Pool(4)\n",
    "result = pool.map(run, confinados)\n",
    "pool.close()\n",
    "result=np.array(result)\n",
    "argsort = np.argsort(result[:,0])\n",
    "confinados=result[argsort,0]\n",
    "infectados_promedio=result[argsort,1]"
   ]
  },
  {
   "cell_type": "code",
   "execution_count": 54,
   "metadata": {},
   "outputs": [
    {
     "data": {
      "image/png": "[encoded data removed]",
      "text/plain": [
       "<Figure size 432x288 with 1 Axes>"
      ]
     },
     "metadata": {
      "needs_background": "light"
     },
     "output_type": "display_data"
    }
   ],
   "source": [
    "plt.plot(confinados*100,np.array(infectados_promedio)*100)\n",
    "plt.axvline(x=59, ymin=0, ymax=1, color=\"red\")\n",
    "plt.ylabel(\"% Infectados\")\n",
    "plt.xlabel(\"% en confinamiento\")\n",
    "plt.show()"
   ]
  },
  {
   "cell_type": "code",
   "execution_count": null,
   "metadata": {},
   "outputs": [],
   "source": []
  }
 ],
 "metadata": {
  "kernelspec": {
   "display_name": "Python 3",
   "language": "python",
   "name": "python3"
  },
  "language_info": {
   "codemirror_mode": {
    "name": "ipython",
    "version": 3
   },
   "file_extension": ".py",
   "mimetype": "text/x-python",
   "name": "python",
   "nbconvert_exporter": "python",
   "pygments_lexer": "ipython3",
   "version": "3.7.7"
  }
 },
 "nbformat": 4,
 "nbformat_minor": 4
}
