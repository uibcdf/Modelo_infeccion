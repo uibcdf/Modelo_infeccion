{
 "cells": [
  {
   "cell_type": "code",
   "execution_count": 1,
   "metadata": {},
   "outputs": [],
   "source": [
    "import networkx as nx\n",
    "import matplotlib.pyplot as plt\n"
   ]
  },
  {
   "cell_type": "code",
   "execution_count": 2,
   "metadata": {},
   "outputs": [],
   "source": [
    "G = nx.Graph()"
   ]
  },
  {
   "cell_type": "markdown",
   "metadata": {},
   "source": [
    "#### Se crean los nodos\n",
    "\n",
    "##### Nodo España:\n"
   ]
  },
  {
   "cell_type": "code",
   "execution_count": 3,
   "metadata": {},
   "outputs": [],
   "source": [
    "G.add_node('España')"
   ]
  },
  {
   "cell_type": "markdown",
   "metadata": {},
   "source": [
    "##### Se crean los nodos de las Comunidades Autonomas"
   ]
  },
  {
   "cell_type": "code",
   "execution_count": 4,
   "metadata": {},
   "outputs": [],
   "source": [
    "G.add_nodes_from(([\"Galicia\", \"Asturias\",\"Cantabria\", \"País Vasco\", \"Navarra\", \"Aragón\", \"Cataluña\",\"Castilla y León\", \"La Rioja\", \"Extremadura\", \"Castilla La Mancha\", \"Valencia\", \"Andalucia\", \"Murcia\", \"Islas Baleares\"]))"
   ]
  },
  {
   "cell_type": "markdown",
   "metadata": {},
   "source": [
    "##### Se crean los nodos de las Provincias"
   ]
  },
  {
   "cell_type": "code",
   "execution_count": 5,
   "metadata": {},
   "outputs": [],
   "source": [
    "G.add_nodes_from(([\"A Coruña\", \"Lugo\", \"Ourense\", \"Pontevedra\", \"Asturias\", \"Palencia\", \"Burgos\", \"Zamora\", \"Valladolid\",  \"Soria\", \"Salamanca\", \"Ávila\", \"Segovia\", \"Cantabria\", \"Bizkaia\", \"Gipuzcoa\", \"Araba\", \"La Rioja\", \"Navarra\", \"Huesca\", \"Zaragoza\", \"Teruel\", \"Leida\", \"Girona\", \"Tarragona\", \"Barcelona\", \"Badajoz\", \"Cadíz\", \"Toledo\", \"Ciudad Real\", \"Guadalajara\", \"Cuenca\", \"Albacete\", \"Castelló\", \"Valencia\", \"Alicante\", \"Huelva\", \"Sevilla\", \"Cadíz\", \"Malága\", \"Córdoba\", \"Jaén\", \"Granada\", \"Almería\" \"Murcía\" \"Mallorca\", \"Menorca\", \"Ibiza\"]))"
   ]
  },
  {
   "cell_type": "markdown",
   "metadata": {},
   "source": [
    "##### Se crean los enlaces de las Comunidades Autónomas al País"
   ]
  },
  {
   "cell_type": "code",
   "execution_count": 6,
   "metadata": {},
   "outputs": [],
   "source": [
    "G.add_edge(\"Galicia\", \"España\")"
   ]
  },
  {
   "cell_type": "code",
   "execution_count": 7,
   "metadata": {},
   "outputs": [],
   "source": [
    "G.add_edge(\"Asturias\", \"España\")"
   ]
  },
  {
   "cell_type": "code",
   "execution_count": 8,
   "metadata": {},
   "outputs": [],
   "source": [
    "G.add_edge(\"Cantabria\", \"España\")"
   ]
  },
  {
   "cell_type": "code",
   "execution_count": 9,
   "metadata": {},
   "outputs": [],
   "source": [
    "G.add_edge(\"País Vasco\", \"España\")"
   ]
  },
  {
   "cell_type": "code",
   "execution_count": 10,
   "metadata": {},
   "outputs": [],
   "source": [
    "G.add_edge(\"Navarra\", \"España\")"
   ]
  },
  {
   "cell_type": "code",
   "execution_count": 11,
   "metadata": {},
   "outputs": [],
   "source": [
    "G.add_edge(\"Aragón\", \"España\")"
   ]
  },
  {
   "cell_type": "code",
   "execution_count": 12,
   "metadata": {},
   "outputs": [],
   "source": [
    "G.add_edge(\"Cataluña\", \"España\")"
   ]
  },
  {
   "cell_type": "code",
   "execution_count": 13,
   "metadata": {},
   "outputs": [],
   "source": [
    "G.add_edge(\"Castilla y León\", \"España\")"
   ]
  },
  {
   "cell_type": "code",
   "execution_count": 14,
   "metadata": {},
   "outputs": [],
   "source": [
    "G.add_edge(\"La Rioja\", \"España\")"
   ]
  },
  {
   "cell_type": "code",
   "execution_count": 15,
   "metadata": {},
   "outputs": [],
   "source": [
    "G.add_edge(\"Extremadura\", \"España\")"
   ]
  },
  {
   "cell_type": "code",
   "execution_count": 16,
   "metadata": {},
   "outputs": [],
   "source": [
    "G.add_edge(\"Castilla La Mancha\", \"España\")"
   ]
  },
  {
   "cell_type": "code",
   "execution_count": 17,
   "metadata": {},
   "outputs": [],
   "source": [
    "G.add_edge(\"Valencia\", \"España\")"
   ]
  },
  {
   "cell_type": "code",
   "execution_count": 18,
   "metadata": {},
   "outputs": [],
   "source": [
    "G.add_edge(\"Andalucia\", \"España\")"
   ]
  },
  {
   "cell_type": "code",
   "execution_count": 19,
   "metadata": {},
   "outputs": [],
   "source": [
    "G.add_edge(\"Murcia\", \"España\")"
   ]
  },
  {
   "cell_type": "code",
   "execution_count": 20,
   "metadata": {},
   "outputs": [],
   "source": [
    "G.add_edge(\"Islas Baleares\", \"España\")"
   ]
  },
  {
   "cell_type": "markdown",
   "metadata": {},
   "source": [
    "##### Se crean los nodos de las Provincias a su respectiva Comunidad Autónoma:"
   ]
  },
  {
   "cell_type": "code",
   "execution_count": 21,
   "metadata": {},
   "outputs": [],
   "source": [
    "v1 = (\"Galicia\", \"A Coruña\")"
   ]
  },
  {
   "cell_type": "code",
   "execution_count": 22,
   "metadata": {},
   "outputs": [],
   "source": [
    "v2 = (\"Galicia\", \"Lugo\")"
   ]
  },
  {
   "cell_type": "code",
   "execution_count": 23,
   "metadata": {},
   "outputs": [],
   "source": [
    "G.add_edge(*v1)"
   ]
  },
  {
   "cell_type": "code",
   "execution_count": 24,
   "metadata": {},
   "outputs": [],
   "source": [
    "G.add_edge(*v2)"
   ]
  },
  {
   "cell_type": "code",
   "execution_count": 25,
   "metadata": {},
   "outputs": [],
   "source": [
    "G.add_edge(\"Galicia\", \"Ourense\")"
   ]
  },
  {
   "cell_type": "code",
   "execution_count": 26,
   "metadata": {},
   "outputs": [],
   "source": [
    "G.add_edge(\"Galicia\", \"Pontevedra\")"
   ]
  },
  {
   "cell_type": "code",
   "execution_count": 27,
   "metadata": {},
   "outputs": [],
   "source": [
    "G.add_edge(\"Asturias\", \"Asturias\")"
   ]
  },
  {
   "cell_type": "code",
   "execution_count": 28,
   "metadata": {},
   "outputs": [],
   "source": [
    "G.add_edge(\"Cantabria\", \"Cantabria\")"
   ]
  },
  {
   "cell_type": "code",
   "execution_count": 29,
   "metadata": {},
   "outputs": [],
   "source": [
    "G.add_edge(\"Castilla y León\", \"Palencia\")"
   ]
  },
  {
   "cell_type": "code",
   "execution_count": 30,
   "metadata": {},
   "outputs": [],
   "source": [
    "G.add_edge(\"Castilla y León\", \"Burgos\")"
   ]
  },
  {
   "cell_type": "code",
   "execution_count": 31,
   "metadata": {},
   "outputs": [],
   "source": [
    "G.add_edge(\"Castilla y León\", \"Zamora\")"
   ]
  },
  {
   "cell_type": "code",
   "execution_count": 32,
   "metadata": {},
   "outputs": [],
   "source": [
    "G.add_edge(\"Castilla y León\", \"Valladolid\")"
   ]
  },
  {
   "cell_type": "code",
   "execution_count": 33,
   "metadata": {},
   "outputs": [],
   "source": [
    "G.add_edge(\"Castilla y León\", \"Soria\")"
   ]
  },
  {
   "cell_type": "code",
   "execution_count": 34,
   "metadata": {},
   "outputs": [],
   "source": [
    "G.add_edge(\"Castilla y León\", \"Salamanca\")"
   ]
  },
  {
   "cell_type": "code",
   "execution_count": 35,
   "metadata": {},
   "outputs": [],
   "source": [
    "G.add_edge(\"Castilla y León\", \"Ávila\")"
   ]
  },
  {
   "cell_type": "code",
   "execution_count": 36,
   "metadata": {},
   "outputs": [],
   "source": [
    "G.add_edge(\"Castilla y León\", \"Segovia\")"
   ]
  },
  {
   "cell_type": "code",
   "execution_count": 37,
   "metadata": {},
   "outputs": [],
   "source": [
    "G.add_edge(\"País Vasco\", \"Bizkaia\")"
   ]
  },
  {
   "cell_type": "code",
   "execution_count": 38,
   "metadata": {},
   "outputs": [],
   "source": [
    "G.add_edge(\"País Vasco\", \"Gipuzcoa\")"
   ]
  },
  {
   "cell_type": "code",
   "execution_count": 39,
   "metadata": {},
   "outputs": [],
   "source": [
    "G.add_edge(\"País Vasco\", \"Araba\")"
   ]
  },
  {
   "cell_type": "code",
   "execution_count": 40,
   "metadata": {},
   "outputs": [],
   "source": [
    "G.add_edge(\"Navarra\", \"Navarra\")"
   ]
  },
  {
   "cell_type": "code",
   "execution_count": 41,
   "metadata": {},
   "outputs": [],
   "source": [
    "G.add_edge(\"Aragón\", \"Huesca\")"
   ]
  },
  {
   "cell_type": "code",
   "execution_count": 42,
   "metadata": {},
   "outputs": [],
   "source": [
    "G.add_edge(\"Aragón\", \"Zaragoza\")"
   ]
  },
  {
   "cell_type": "code",
   "execution_count": 43,
   "metadata": {},
   "outputs": [],
   "source": [
    "G.add_edge(\"Aragón\", \"Teruel\")"
   ]
  },
  {
   "cell_type": "code",
   "execution_count": 44,
   "metadata": {},
   "outputs": [],
   "source": [
    "G.add_edge(\"Cataluña\", \"Leida\")"
   ]
  },
  {
   "cell_type": "code",
   "execution_count": 45,
   "metadata": {},
   "outputs": [],
   "source": [
    "G.add_edge(\"Cataluña\", \"Girona\")"
   ]
  },
  {
   "cell_type": "code",
   "execution_count": 46,
   "metadata": {},
   "outputs": [],
   "source": [
    "G.add_edge(\"Cataluña\", \"Tarragona\")"
   ]
  },
  {
   "cell_type": "code",
   "execution_count": 47,
   "metadata": {},
   "outputs": [],
   "source": [
    "G.add_edge(\"Cataluña\", \"Barcelona\")"
   ]
  },
  {
   "cell_type": "code",
   "execution_count": 48,
   "metadata": {},
   "outputs": [],
   "source": [
    "G.add_edge(\"La Rioja\", \"La Rioja\")"
   ]
  },
  {
   "cell_type": "code",
   "execution_count": 49,
   "metadata": {},
   "outputs": [],
   "source": [
    "G.add_edge(\"Extremadura\", \"Badajoz\")"
   ]
  },
  {
   "cell_type": "code",
   "execution_count": 50,
   "metadata": {},
   "outputs": [],
   "source": [
    "G.add_edge(\"Extremadura\", \"Cáceres\")"
   ]
  },
  {
   "cell_type": "code",
   "execution_count": 51,
   "metadata": {},
   "outputs": [],
   "source": [
    "G.add_edge(\"Castilla La Mancha\", \"Toledo\")"
   ]
  },
  {
   "cell_type": "code",
   "execution_count": 52,
   "metadata": {},
   "outputs": [],
   "source": [
    "G.add_edge(\"Castilla La Mancha\", \"Ciudad Real\")"
   ]
  },
  {
   "cell_type": "code",
   "execution_count": 53,
   "metadata": {},
   "outputs": [],
   "source": [
    "G.add_edge(\"Castilla La Mancha\", \"Guadalajara\")"
   ]
  },
  {
   "cell_type": "code",
   "execution_count": 54,
   "metadata": {},
   "outputs": [],
   "source": [
    "G.add_edge(\"Castilla La Mancha\", \"Cuenca\")"
   ]
  },
  {
   "cell_type": "code",
   "execution_count": 55,
   "metadata": {},
   "outputs": [],
   "source": [
    "G.add_edge(\"Castilla La Mancha\", \"Albacete\")"
   ]
  },
  {
   "cell_type": "code",
   "execution_count": 56,
   "metadata": {},
   "outputs": [],
   "source": [
    "G.add_edge(\"Valencia\", \"Castelló\")"
   ]
  },
  {
   "cell_type": "code",
   "execution_count": 57,
   "metadata": {},
   "outputs": [],
   "source": [
    "G.add_edge(\"Valencia\", \"Valencia\")"
   ]
  },
  {
   "cell_type": "code",
   "execution_count": 58,
   "metadata": {},
   "outputs": [],
   "source": [
    "G.add_edge(\"Valencia\", \"Alicante\")"
   ]
  },
  {
   "cell_type": "code",
   "execution_count": 59,
   "metadata": {},
   "outputs": [],
   "source": [
    "G.add_edge(\"Andalucia\", \"Huelva\")"
   ]
  },
  {
   "cell_type": "code",
   "execution_count": 60,
   "metadata": {},
   "outputs": [],
   "source": [
    "G.add_edge(\"Andalucia\", \"Sevilla\")"
   ]
  },
  {
   "cell_type": "code",
   "execution_count": 61,
   "metadata": {},
   "outputs": [],
   "source": [
    "G.add_edge(\"Andalucia\", \"Cadíz\")"
   ]
  },
  {
   "cell_type": "code",
   "execution_count": 62,
   "metadata": {},
   "outputs": [],
   "source": [
    "G.add_edge(\"Andalucia\", \"Huelva\")"
   ]
  },
  {
   "cell_type": "code",
   "execution_count": 63,
   "metadata": {},
   "outputs": [],
   "source": [
    "G.add_edge(\"Andalucia\", \"Malága\")"
   ]
  },
  {
   "cell_type": "code",
   "execution_count": 64,
   "metadata": {},
   "outputs": [],
   "source": [
    "G.add_edge(\"Andalucia\", \"Córdoba\")"
   ]
  },
  {
   "cell_type": "code",
   "execution_count": 65,
   "metadata": {},
   "outputs": [],
   "source": [
    "G.add_edge(\"Andalucia\", \"Jaén\")"
   ]
  },
  {
   "cell_type": "code",
   "execution_count": 66,
   "metadata": {},
   "outputs": [],
   "source": [
    "G.add_edge(\"Andalucia\", \"Granada\")"
   ]
  },
  {
   "cell_type": "code",
   "execution_count": 67,
   "metadata": {},
   "outputs": [],
   "source": [
    "G.add_edge(\"Andalucia\", \"Almería\")"
   ]
  },
  {
   "cell_type": "code",
   "execution_count": 68,
   "metadata": {},
   "outputs": [],
   "source": [
    "G.add_edge(\"Murcia\", \"Murcia\")"
   ]
  },
  {
   "cell_type": "code",
   "execution_count": 69,
   "metadata": {},
   "outputs": [],
   "source": [
    "G.add_edge(\"Islas Baleares\", \"Mallorca\")"
   ]
  },
  {
   "cell_type": "code",
   "execution_count": 70,
   "metadata": {},
   "outputs": [],
   "source": [
    "G.add_edge(\"Islas Baleares\", \"Menorca\")"
   ]
  },
  {
   "cell_type": "code",
   "execution_count": 71,
   "metadata": {},
   "outputs": [],
   "source": [
    "G.add_edge(\"Islas Baleares\", \"Ibiza\")"
   ]
  },
  {
   "cell_type": "markdown",
   "metadata": {},
   "source": [
    "##### Se dibuja el grafo"
   ]
  },
  {
   "cell_type": "code",
   "execution_count": 73,
   "metadata": {},
   "outputs": [
    {
     "data": {
      "image/png": "[encoded data removed]",
      "text/plain": [
       "<Figure size 432x288 with 1 Axes>"
      ]
     },
     "metadata": {},
     "output_type": "display_data"
    }
   ],
   "source": [
    "nx.draw(G)\n",
    "\n",
    "\n",
    "\n",
    "plt.show()"
   ]
  },
  {
   "cell_type": "markdown",
   "metadata": {},
   "source": [
    "##### Se muestra información de los nodos (cantidad, nodos)"
   ]
  },
  {
   "cell_type": "code",
   "execution_count": 75,
   "metadata": {},
   "outputs": [
    {
     "name": "stdout",
     "output_type": "stream",
     "text": [
      "Nodos:  59 ['España', 'Galicia', 'Asturias', 'Cantabria', 'País Vasco', 'Navarra', 'Aragón', 'Cataluña', 'Castilla y León', 'La Rioja', 'Extremadura', 'Castilla La Mancha', 'Valencia', 'Andalucia', 'Murcia', 'Islas Baleares', 'A Coruña', 'Lugo', 'Ourense', 'Pontevedra', 'Palencia', 'Burgos', 'Zamora', 'Valladolid', 'Soria', 'Salamanca', 'Ávila', 'Segovia', 'Bizkaia', 'Gipuzcoa', 'Araba', 'Huesca', 'Zaragoza', 'Teruel', 'Leida', 'Girona', 'Tarragona', 'Barcelona', 'Badajoz', 'Cadíz', 'Toledo', 'Ciudad Real', 'Guadalajara', 'Cuenca', 'Albacete', 'Castelló', 'Alicante', 'Huelva', 'Sevilla', 'Malága', 'Córdoba', 'Jaén', 'Granada', 'AlmeríaMurcíaMallorca', 'Menorca', 'Ibiza', 'Cáceres', 'Almería', 'Mallorca']\n"
     ]
    }
   ],
   "source": [
    "print(\"Nodos: \", G.number_of_nodes(), G.nodes())"
   ]
  },
  {
   "cell_type": "markdown",
   "metadata": {},
   "source": [
    "##### Se muestra información de los enlaces (cantidad, enlaces)"
   ]
  },
  {
   "cell_type": "code",
   "execution_count": 76,
   "metadata": {},
   "outputs": [
    {
     "name": "stdout",
     "output_type": "stream",
     "text": [
      "Enlaces:  63 [('España', 'Galicia'), ('España', 'Asturias'), ('España', 'Cantabria'), ('España', 'País Vasco'), ('España', 'Navarra'), ('España', 'Aragón'), ('España', 'Cataluña'), ('España', 'Castilla y León'), ('España', 'La Rioja'), ('España', 'Extremadura'), ('España', 'Castilla La Mancha'), ('España', 'Valencia'), ('España', 'Andalucia'), ('España', 'Murcia'), ('España', 'Islas Baleares'), ('Galicia', 'A Coruña'), ('Galicia', 'Lugo'), ('Galicia', 'Ourense'), ('Galicia', 'Pontevedra'), ('Asturias', 'Asturias'), ('Cantabria', 'Cantabria'), ('País Vasco', 'Bizkaia'), ('País Vasco', 'Gipuzcoa'), ('País Vasco', 'Araba'), ('Navarra', 'Navarra'), ('Aragón', 'Huesca'), ('Aragón', 'Zaragoza'), ('Aragón', 'Teruel'), ('Cataluña', 'Leida'), ('Cataluña', 'Girona'), ('Cataluña', 'Tarragona'), ('Cataluña', 'Barcelona'), ('Castilla y León', 'Palencia'), ('Castilla y León', 'Burgos'), ('Castilla y León', 'Zamora'), ('Castilla y León', 'Valladolid'), ('Castilla y León', 'Soria'), ('Castilla y León', 'Salamanca'), ('Castilla y León', 'Ávila'), ('Castilla y León', 'Segovia'), ('La Rioja', 'La Rioja'), ('Extremadura', 'Badajoz'), ('Extremadura', 'Cáceres'), ('Castilla La Mancha', 'Toledo'), ('Castilla La Mancha', 'Ciudad Real'), ('Castilla La Mancha', 'Guadalajara'), ('Castilla La Mancha', 'Cuenca'), ('Castilla La Mancha', 'Albacete'), ('Valencia', 'Castelló'), ('Valencia', 'Valencia'), ('Valencia', 'Alicante'), ('Andalucia', 'Huelva'), ('Andalucia', 'Sevilla'), ('Andalucia', 'Cadíz'), ('Andalucia', 'Malága'), ('Andalucia', 'Córdoba'), ('Andalucia', 'Jaén'), ('Andalucia', 'Granada'), ('Andalucia', 'Almería'), ('Murcia', 'Murcia'), ('Islas Baleares', 'Mallorca'), ('Islas Baleares', 'Menorca'), ('Islas Baleares', 'Ibiza')]\n"
     ]
    }
   ],
   "source": [
    "print(\"Enlaces: \", G.number_of_edges(),G.edges())"
   ]
  },
  {
   "cell_type": "code",
   "execution_count": null,
   "metadata": {},
   "outputs": [],
   "source": []
  }
 ],
 "metadata": {
  "kernelspec": {
   "display_name": "Python 3",
   "language": "python",
   "name": "python3"
  },
  "language_info": {
   "codemirror_mode": {
    "name": "ipython",
    "version": 3
   },
   "file_extension": ".py",
   "mimetype": "text/x-python",
   "name": "python",
   "nbconvert_exporter": "python",
   "pygments_lexer": "ipython3",
   "version": "3.7.3"
  }
 },
 "nbformat": 4,
 "nbformat_minor": 4
}
