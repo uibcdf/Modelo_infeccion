{
 "cells": [
  {
   "cell_type": "code",
   "execution_count": null,
   "metadata": {},
   "outputs": [],
   "source": [
    "import networkx as nx\n",
    "import matplotlib.pyplot as plt\n",
    "import seaborn as sns\n",
    "import numpy as np"
   ]
  },
  {
   "cell_type": "code",
   "execution_count": null,
   "metadata": {},
   "outputs": [],
   "source": [
    "G = nx.barabasi_albert_graph(20000, 1)"
   ]
  },
  {
   "cell_type": "markdown",
   "metadata": {},
   "source": [
    "#### Calculando la distribución de conectividad"
   ]
  },
  {
   "cell_type": "code",
   "execution_count": null,
   "metadata": {},
   "outputs": [],
   "source": [
    "lista_grado = []\n",
    "\n",
    "for indice_nodo, grado_nodo in G.degree():\n",
    "    lista_grado.append(grado_nodo)"
   ]
  },
  {
   "cell_type": "code",
   "execution_count": null,
   "metadata": {},
   "outputs": [],
   "source": [
    "kmax = np.max(lista_grado)\n",
    "kav = np.average(lista_grado)\n",
    "print(kmax, kav)"
   ]
  },
  {
   "cell_type": "code",
   "execution_count": null,
   "metadata": {},
   "outputs": [],
   "source": [
    "frecuencia_grado = np.zeros(kmax+1)"
   ]
  },
  {
   "cell_type": "code",
   "execution_count": null,
   "metadata": {},
   "outputs": [],
   "source": [
    "len(frecuencia_grado)"
   ]
  },
  {
   "cell_type": "code",
   "execution_count": null,
   "metadata": {},
   "outputs": [],
   "source": [
    "for ii in lista_grado:\n",
    "    frecuencia_grado[ii] += 1\n",
    "\n",
    "x = np.linspace(0, kmax, num= kmax+1)\n",
    "\n",
    "y_sin_ceros = []\n",
    "x_sin_ceros = []\n",
    "\n",
    "for ii in range(len(frecuencia_grado)):\n",
    "    if frecuencia_grado[ii]>0:\n",
    "        y_sin_ceros.append(frecuencia_grado[ii])\n",
    "        x_sin_ceros.append(x[ii])\n",
    "\n",
    "#for ii,jj in zip(frecuencia_grado,x):\n",
    "#   if ii >0:\n",
    "#       y_sin_ceros.append(ii)\n",
    "#       x_sin_ceros.append(jj)\n",
    "        \n"
   ]
  },
  {
   "cell_type": "code",
   "execution_count": null,
   "metadata": {},
   "outputs": [],
   "source": [
    "plt.scatter(x_sin_ceros, y_sin_ceros)\n",
    "plt.xscale('log')\n",
    "plt.yscale('log')\n",
    "\n",
    "plt.show()\n"
   ]
  },
  {
   "cell_type": "code",
   "execution_count": null,
   "metadata": {},
   "outputs": [],
   "source": [
    "for ii in range(G.number_of_nodes()):\n",
    "    G.nodes[ii][\"estado\"] = 0  \n",
    "    "
   ]
  },
  {
   "cell_type": "code",
   "execution_count": null,
   "metadata": {},
   "outputs": [],
   "source": [
    "paciente_cero = np.random.randint(0,G.number_of_nodes())"
   ]
  },
  {
   "cell_type": "code",
   "execution_count": null,
   "metadata": {},
   "outputs": [],
   "source": [
    "G.nodes[paciente_cero][\"estado\"] = 1"
   ]
  },
  {
   "cell_type": "markdown",
   "metadata": {},
   "source": [
    "##### Propagando la infección"
   ]
  },
  {
   "cell_type": "code",
   "execution_count": null,
   "metadata": {},
   "outputs": [],
   "source": [
    "print(\"Paciente cero:\", paciente_cero)"
   ]
  },
  {
   "cell_type": "code",
   "execution_count": null,
   "metadata": {},
   "outputs": [],
   "source": [
    "nuevos_infectados = []\n",
    "nuevos_infectados.append(paciente_cero)\n",
    "\n",
    "while len(nuevos_infectados)>0:\n",
    "    lista_auxiliar = []\n",
    "    for nuevo_infectado in nuevos_infectados:\n",
    "        for vecino in G.neighbors(nuevo_infectado):\n",
    "            if G.nodes[vecino][\"estado\"]==0:\n",
    "                G.nodes[vecino][\"estado\"]=1\n",
    "                lista_auxiliar.append(vecino)\n",
    "    nuevos_infectados=lista_auxiliar\n",
    "    #print(porcentaje_infectados(G))"
   ]
  },
  {
   "cell_type": "code",
   "execution_count": null,
   "metadata": {},
   "outputs": [],
   "source": [
    "def porcentaje_infectados (G):\n",
    "   \n",
    "    numero_infectados = 0\n",
    "    for ii in list(G.nodes()):\n",
    "        if G.nodes[ii][\"estado\"] == 1:\n",
    "            numero_infectados += 1\n",
    "            \n",
    "    return numero_infectados/(G.number_of_nodes())\n"
   ]
  },
  {
   "cell_type": "code",
   "execution_count": null,
   "metadata": {},
   "outputs": [],
   "source": [
    "porcentaje_infectados(G) "
   ]
  },
  {
   "cell_type": "markdown",
   "metadata": {},
   "source": [
    "______________________________\n"
   ]
  },
  {
   "cell_type": "code",
   "execution_count": null,
   "metadata": {},
   "outputs": [],
   "source": [
    "numero_nodos = 20000 # definimos un sistema con 20000 individuos sanos\n",
    "m = 1\n",
    "confinados = 0.3"
   ]
  },
  {
   "cell_type": "code",
   "execution_count": null,
   "metadata": {},
   "outputs": [],
   "source": [
    "G = nx.barabasi_albert_graph(numero_nodos, m)"
   ]
  },
  {
   "cell_type": "code",
   "execution_count": null,
   "metadata": {},
   "outputs": [],
   "source": [
    "numero_nodos_confinados = int(numero_nodos * confinados) # de esos 20000 se confina aleatoriamente el 30% en casa"
   ]
  },
  {
   "cell_type": "code",
   "execution_count": null,
   "metadata": {},
   "outputs": [],
   "source": [
    "numero_nodos_confinados"
   ]
  },
  {
   "cell_type": "code",
   "execution_count": null,
   "metadata": {},
   "outputs": [],
   "source": [
    "indices_nodo = list(range(0, G.number_of_nodes())) #se obtiene la lista de los indices de todos los nodos del sistema"
   ]
  },
  {
   "cell_type": "code",
   "execution_count": null,
   "metadata": {},
   "outputs": [],
   "source": [
    "np.random.shuffle(indices_nodo) #se aleatoriza la lista anterior"
   ]
  },
  {
   "cell_type": "code",
   "execution_count": null,
   "metadata": {},
   "outputs": [],
   "source": [
    "for ii in indices_nodo[0:6000]: # del sistema se eliminan el 30% que son los que se van a casa\n",
    "    G.remove_node(ii)"
   ]
  },
  {
   "cell_type": "code",
   "execution_count": null,
   "metadata": {},
   "outputs": [],
   "source": [
    "G.number_of_nodes() #el número de individuos que no se han confinado"
   ]
  },
  {
   "cell_type": "markdown",
   "metadata": {},
   "source": [
    "##### Infectando a un paciente aleatoriamente"
   ]
  },
  {
   "cell_type": "code",
   "execution_count": null,
   "metadata": {},
   "outputs": [],
   "source": [
    "nodos_restantes = list(G.nodes())"
   ]
  },
  {
   "cell_type": "code",
   "execution_count": null,
   "metadata": {},
   "outputs": [],
   "source": [
    "np.random.shuffle(nodos_restantes)"
   ]
  },
  {
   "cell_type": "code",
   "execution_count": null,
   "metadata": {},
   "outputs": [],
   "source": [
    "paciente_cero = nodos_restantes[0]"
   ]
  },
  {
   "cell_type": "code",
   "execution_count": null,
   "metadata": {},
   "outputs": [],
   "source": [
    "paciente_cero"
   ]
  },
  {
   "cell_type": "markdown",
   "metadata": {},
   "source": [
    "##### ... se propaga la infección"
   ]
  },
  {
   "cell_type": "code",
   "execution_count": null,
   "metadata": {},
   "outputs": [],
   "source": [
    "for ii in list(G.nodes()):\n",
    "    G.nodes[ii][\"estado\"] = 0 "
   ]
  },
  {
   "cell_type": "code",
   "execution_count": null,
   "metadata": {},
   "outputs": [],
   "source": [
    "nuevos_infectados = []\n",
    "nuevos_infectados.append(paciente_cero)\n",
    "\n",
    "while len(nuevos_infectados)>0:\n",
    "    lista_auxiliar = []\n",
    "    for nuevo_infectado in nuevos_infectados:\n",
    "        for vecino in G.neighbors(nuevo_infectado):\n",
    "            if G.nodes[vecino][\"estado\"]==0:\n",
    "                G.nodes[vecino][\"estado\"]=1\n",
    "                lista_auxiliar.append(vecino)\n",
    "    nuevos_infectados=lista_auxiliar\n",
    "    #print(porcentaje_infectados(G))"
   ]
  },
  {
   "cell_type": "code",
   "execution_count": null,
   "metadata": {},
   "outputs": [],
   "source": [
    "porcentaje_infectados(G) "
   ]
  },
  {
   "cell_type": "markdown",
   "metadata": {},
   "source": [
    "___________________________________"
   ]
  },
  {
   "cell_type": "code",
   "execution_count": null,
   "metadata": {},
   "outputs": [],
   "source": [
    "def mundo_red(n_nodos, m, confinados = 0.3):\n",
    "    \n",
    "    G = nx.barabasi_albert_graph(n_nodos, m)\n",
    "    numero_nodos_confinados = int(n_nodos * confinados)\n",
    "    indices_nodo = list(range(0, G.number_of_nodes()))\n",
    "    np.random.shuffle(indices_nodo)\n",
    "    \n",
    "    for ii in indices_nodo[0:numero_nodos_confinados]:\n",
    "        G.remove_node(ii)\n",
    "       \n",
    "    for ii in list(G.nodes()):\n",
    "        G.nodes[ii][\"estado\"] = 0 \n",
    "    \n",
    "    \n",
    "    return G"
   ]
  },
  {
   "cell_type": "code",
   "execution_count": null,
   "metadata": {},
   "outputs": [],
   "source": [
    "def infeccion_inicial(G):\n",
    "    \n",
    "    if G.number_of_nodes() > 0:\n",
    "    \n",
    "        nodos_restantes = list(G.nodes())\n",
    "        np.random.shuffle(nodos_restantes)\n",
    "        paciente_cero = nodos_restantes[0]\n",
    "        G.nodes[paciente_cero][\"estado\"] = 1\n",
    "    "
   ]
  },
  {
   "cell_type": "code",
   "execution_count": null,
   "metadata": {},
   "outputs": [],
   "source": [
    "def propagacion_infeccion(G):\n",
    "    \n",
    "    if G.number_of_nodes() > 0:\n",
    "    \n",
    "        nuevos_infectados = []\n",
    "    \n",
    "        for ii in list(G.nodes()):\n",
    "            if G.nodes[ii][\"estado\"] == 1:\n",
    "                nuevos_infectados.append(ii)    \n",
    "    \n",
    "        while len(nuevos_infectados)>0:\n",
    "            lista_auxiliar = []\n",
    "            for nuevo_infectado in nuevos_infectados:\n",
    "                for vecino in G.neighbors(nuevo_infectado):\n",
    "                    if G.nodes[vecino][\"estado\"]==0:\n",
    "                        G.nodes[vecino][\"estado\"]=1\n",
    "                        lista_auxiliar.append(vecino)\n",
    "            nuevos_infectados=lista_auxiliar\n",
    "       "
   ]
  },
  {
   "cell_type": "code",
   "execution_count": null,
   "metadata": {},
   "outputs": [],
   "source": [
    "def porcentaje_infectados(G):\n",
    "    \n",
    "    if G.number_of_nodes() > 0:\n",
    "    \n",
    "        numero_infectados = 0\n",
    "        for ii in list(G.nodes()):\n",
    "            if G.nodes[ii][\"estado\"] == 1:\n",
    "                numero_infectados += 1\n",
    "            \n",
    "        return numero_infectados/(G.number_of_nodes())\n",
    "    else:\n",
    "        return 0.0"
   ]
  },
  {
   "cell_type": "code",
   "execution_count": null,
   "metadata": {},
   "outputs": [],
   "source": [
    "sistema = mundo_red(20000, 1, 0.0)"
   ]
  },
  {
   "cell_type": "code",
   "execution_count": null,
   "metadata": {},
   "outputs": [],
   "source": [
    "infeccion_inicial (sistema)"
   ]
  },
  {
   "cell_type": "code",
   "execution_count": null,
   "metadata": {},
   "outputs": [],
   "source": [
    "propagacion_infeccion (sistema)"
   ]
  },
  {
   "cell_type": "code",
   "execution_count": null,
   "metadata": {},
   "outputs": [],
   "source": [
    "porcentaje_infectados(sistema)"
   ]
  },
  {
   "cell_type": "code",
   "execution_count": null,
   "metadata": {},
   "outputs": [],
   "source": [
    "n_nodos = 2000\n",
    "m = 4\n",
    "confinados = np.linspace(0.0, 1.0, num=30)\n",
    "n_realizaciones = 200\n",
    "lista_porcentaje_infectados_promedio = []\n",
    "\n",
    "for cc in confinados:\n",
    "    print(cc)\n",
    "    lista_porcentaje_infectados = []\n",
    "\n",
    "    for _ in range(n_realizaciones):\n",
    "    \n",
    "        sistema = mundo_red(n_nodos, m, cc)\n",
    "        infeccion_inicial(sistema)\n",
    "        propagacion_infeccion(sistema)\n",
    "        p = porcentaje_infectados(sistema)\n",
    "        lista_porcentaje_infectados.append(p)\n",
    "    \n",
    "    mean = np.mean(lista_porcentaje_infectados)\n",
    "    lista_porcentaje_infectados_promedio.append(mean)"
   ]
  },
  {
   "cell_type": "code",
   "execution_count": null,
   "metadata": {},
   "outputs": [],
   "source": [
    "plt.plot(confinados*100,np.array(lista_porcentaje_infectados_promedio)*100)\n",
    "plt.axvline(x=59, ymin=0, ymax=1, color=\"red\")\n",
    "plt.ylabel(\"% Infectados\")\n",
    "plt.xlabel(\"% en confinamiento\")\n",
    "plt.show()"
   ]
  },
  {
   "cell_type": "code",
   "execution_count": null,
   "metadata": {},
   "outputs": [],
   "source": []
  }
 ],
 "metadata": {
  "kernelspec": {
   "display_name": "Python 3",
   "language": "python",
   "name": "python3"
  },
  "language_info": {
   "codemirror_mode": {
    "name": "ipython",
    "version": 3
   },
   "file_extension": ".py",
   "mimetype": "text/x-python",
   "name": "python",
   "nbconvert_exporter": "python",
   "pygments_lexer": "ipython3",
   "version": "3.7.3"
  }
 },
 "nbformat": 4,
 "nbformat_minor": 4
}
