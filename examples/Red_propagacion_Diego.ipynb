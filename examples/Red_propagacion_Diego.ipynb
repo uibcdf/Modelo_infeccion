{
 "cells": [
  {
   "cell_type": "code",
   "execution_count": 1,
   "metadata": {},
   "outputs": [],
   "source": [
    "import networkx as nx\n",
    "import matplotlib.pyplot as plt\n",
    "import seaborn as sns\n",
    "import numpy as np"
   ]
  },
  {
   "cell_type": "code",
   "execution_count": 2,
   "metadata": {},
   "outputs": [],
   "source": [
    "def distribucion_grado(G):\n",
    "\n",
    "    lista_grado = []\n",
    "\n",
    "    for indice_nodo, grado_nodo in G.degree():\n",
    "        lista_grado.append(grado_nodo)\n",
    "    \n",
    "    kmax=np.max(lista_grado)\n",
    "    \n",
    "    print('Kmax = {}'.format(kmax))\n",
    "    print('Kmean = {}'.format(np.average(lista_grado)))\n",
    "    \n",
    "    frecuencia_grado = np.zeros(kmax+1)\n",
    "    \n",
    "    for ii in lista_grado:\n",
    "        frecuencia_grado[ii] += 1\n",
    "\n",
    "    x = np.linspace(0, kmax, num=kmax+1)\n",
    "\n",
    "    y_sin_ceros = []\n",
    "    x_sin_ceros = []\n",
    "\n",
    "    for ii in range(len(frecuencia_grado)):\n",
    "        if frecuencia_grado[ii]>0:\n",
    "            y_sin_ceros.append(frecuencia_grado[ii])\n",
    "            x_sin_ceros.append(x[ii])\n",
    "\n",
    "\n",
    "    return x_sin_ceros, y_sin_ceros\n"
   ]
  },
  {
   "cell_type": "code",
   "execution_count": 27,
   "metadata": {},
   "outputs": [],
   "source": [
    "def mundo_red_BA(n_nodos, m, confinados = 0.3):\n",
    "    \n",
    "    G = nx.barabasi_albert_graph(n_nodos, m)\n",
    "    numero_nodos_confinados = int(n_nodos * confinados)\n",
    "    indices_nodo = list(range(0, G.number_of_nodes()))\n",
    "    np.random.shuffle(indices_nodo)\n",
    "    \n",
    "    for ii in indices_nodo[0:numero_nodos_confinados]:\n",
    "        G.remove_node(ii)\n",
    "       \n",
    "    for ii in list(G.nodes()):\n",
    "        G.nodes[ii][\"estado\"] = 0 \n",
    "    \n",
    "    return G\n",
    "\n",
    "def mundo_red_NWS(n_nodos, k, p, confinados = 0.3):\n",
    "\n",
    "    G = nx.newman_watts_strogatz_graph(n_nodos, k, p, seed=None)\n",
    "    numero_nodos_confinados = int(n_nodos * confinados)\n",
    "    indices_nodo = list(range(0, G.number_of_nodes()))\n",
    "    np.random.shuffle(indices_nodo)\n",
    "    \n",
    "    for ii in indices_nodo[0:numero_nodos_confinados]:\n",
    "        G.remove_node(ii)\n",
    "       \n",
    "    for ii in list(G.nodes()):\n",
    "        G.nodes[ii][\"estado\"] = 0 \n",
    "    \n",
    "    return G\n",
    "\n",
    "def mundo_red_WS(n_nodos, k, p, confinados = 0.3):\n",
    "\n",
    "    G = nx.connected_watts_strogatz_graph(n_nodos, k, p, tries=100)\n",
    "    numero_nodos_confinados = int(n_nodos * confinados)\n",
    "    indices_nodo = list(range(0, G.number_of_nodes()))\n",
    "    np.random.shuffle(indices_nodo)\n",
    "    \n",
    "    for ii in indices_nodo[0:numero_nodos_confinados]:\n",
    "        G.remove_node(ii)\n",
    "       \n",
    "    for ii in list(G.nodes()):\n",
    "        G.nodes[ii][\"estado\"] = 0 \n",
    "    \n",
    "    return G"
   ]
  },
  {
   "cell_type": "code",
   "execution_count": 4,
   "metadata": {},
   "outputs": [],
   "source": [
    "def infeccion_inicial(G):\n",
    "    \n",
    "    if G.number_of_nodes() > 0:\n",
    "    \n",
    "        nodos_restantes = list(G.nodes())\n",
    "        np.random.shuffle(nodos_restantes)\n",
    "        paciente_cero = nodos_restantes[0]\n",
    "        G.nodes[paciente_cero][\"estado\"] = 1\n",
    "    "
   ]
  },
  {
   "cell_type": "code",
   "execution_count": 5,
   "metadata": {},
   "outputs": [],
   "source": [
    "def propagacion_infeccion(G):\n",
    "    \n",
    "    if G.number_of_nodes() > 0:\n",
    "    \n",
    "        nuevos_infectados = []\n",
    "    \n",
    "        for ii in list(G.nodes()):\n",
    "            if G.nodes[ii][\"estado\"] == 1:\n",
    "                nuevos_infectados.append(ii)    \n",
    "    \n",
    "        while len(nuevos_infectados)>0:\n",
    "            lista_auxiliar = []\n",
    "            for nuevo_infectado in nuevos_infectados:\n",
    "                for vecino in G.neighbors(nuevo_infectado):\n",
    "                    if G.nodes[vecino][\"estado\"]==0:\n",
    "                        G.nodes[vecino][\"estado\"]=1\n",
    "                        lista_auxiliar.append(vecino)\n",
    "            nuevos_infectados=lista_auxiliar\n",
    "       "
   ]
  },
  {
   "cell_type": "code",
   "execution_count": 6,
   "metadata": {},
   "outputs": [],
   "source": [
    "def porcentaje_infectados(G):\n",
    "    \n",
    "    if G.number_of_nodes() > 0:\n",
    "    \n",
    "        numero_infectados = 0\n",
    "        for ii in list(G.nodes()):\n",
    "            if G.nodes[ii][\"estado\"] == 1:\n",
    "                numero_infectados += 1\n",
    "            \n",
    "        return numero_infectados/(G.number_of_nodes())\n",
    "    else:\n",
    "        return 0.0"
   ]
  },
  {
   "cell_type": "markdown",
   "metadata": {},
   "source": [
    "# Connected Watson - Strogatz"
   ]
  },
  {
   "cell_type": "code",
   "execution_count": 32,
   "metadata": {},
   "outputs": [],
   "source": [
    "n_nodos = 10000\n",
    "m = 8\n",
    "p = 0.4"
   ]
  },
  {
   "cell_type": "code",
   "execution_count": 33,
   "metadata": {},
   "outputs": [
    {
     "name": "stdout",
     "output_type": "stream",
     "text": [
      "Kmax = 15\n",
      "Kmean = 8.0\n"
     ]
    },
    {
     "data": {
      "image/png": "[encoded data removed]",
      "text/plain": [
       "<Figure size 432x288 with 1 Axes>"
      ]
     },
     "metadata": {
      "needs_background": "light"
     },
     "output_type": "display_data"
    }
   ],
   "source": [
    "sistema = mundo_red_WS(n_nodos, m, p, confinados=0)\n",
    "hx,hy = distribucion_grado(sistema)\n",
    "plt.scatter(hx, hy)\n",
    "#plt.xscale('log')\n",
    "#plt.yscale('log')\n",
    "plt.show()"
   ]
  },
  {
   "cell_type": "code",
   "execution_count": 34,
   "metadata": {},
   "outputs": [
    {
     "name": "stdout",
     "output_type": "stream",
     "text": [
      "0.0\n",
      "0.1\n",
      "0.2\n",
      "0.30000000000000004\n",
      "0.4\n",
      "0.5\n",
      "0.6000000000000001\n",
      "0.7000000000000001\n",
      "0.8\n",
      "0.9\n",
      "1.0\n"
     ]
    }
   ],
   "source": [
    "confinados = np.linspace(0.0, 1.0, num=11)\n",
    "n_realizaciones = 200\n",
    "lista_porcentaje_infectados_promedio = []\n",
    "\n",
    "for cc in confinados:\n",
    "    print(cc)\n",
    "    lista_porcentaje_infectados = []\n",
    "\n",
    "    for _ in range(n_realizaciones):\n",
    "    \n",
    "        sistema = mundo_red_NWS(n_nodos, m, p, confinados=cc)\n",
    "        infeccion_inicial(sistema)\n",
    "        propagacion_infeccion(sistema)\n",
    "        porcentaje = porcentaje_infectados(sistema)\n",
    "        lista_porcentaje_infectados.append(porcentaje)\n",
    "    \n",
    "    mean = np.mean(lista_porcentaje_infectados)\n",
    "    lista_porcentaje_infectados_promedio.append(mean)"
   ]
  },
  {
   "cell_type": "code",
   "execution_count": 35,
   "metadata": {},
   "outputs": [
    {
     "data": {
      "image/png": "[encoded data removed]",
      "text/plain": [
       "<Figure size 432x288 with 1 Axes>"
      ]
     },
     "metadata": {
      "needs_background": "light"
     },
     "output_type": "display_data"
    }
   ],
   "source": [
    "plt.plot(confinados*100,np.array(lista_porcentaje_infectados_promedio)*100)\n",
    "plt.axvline(x=59, ymin=0, ymax=1, color=\"red\")\n",
    "plt.ylabel(\"% Infectados\")\n",
    "plt.xlabel(\"% en confinamiento\")\n",
    "plt.show()"
   ]
  },
  {
   "cell_type": "markdown",
   "metadata": {},
   "source": [
    "# Newman Watson - Strogatz"
   ]
  },
  {
   "cell_type": "code",
   "execution_count": 23,
   "metadata": {},
   "outputs": [],
   "source": [
    "n_nodos = 10000\n",
    "m = 6\n",
    "p = 0.4"
   ]
  },
  {
   "cell_type": "code",
   "execution_count": 24,
   "metadata": {},
   "outputs": [
    {
     "name": "stdout",
     "output_type": "stream",
     "text": [
      "Kmax = 15\n",
      "Kmean = 8.3922\n"
     ]
    },
    {
     "data": {
      "image/png": "[encoded data removed]",
      "text/plain": [
       "<Figure size 432x288 with 1 Axes>"
      ]
     },
     "metadata": {
      "needs_background": "light"
     },
     "output_type": "display_data"
    }
   ],
   "source": [
    "sistema = mundo_red_NWS(n_nodos, m, p, confinados=0)\n",
    "hx,hy = distribucion_grado(sistema)\n",
    "plt.scatter(hx, hy)\n",
    "#plt.xscale('log')\n",
    "#plt.yscale('log')\n",
    "plt.show()"
   ]
  },
  {
   "cell_type": "code",
   "execution_count": 25,
   "metadata": {},
   "outputs": [
    {
     "name": "stdout",
     "output_type": "stream",
     "text": [
      "0.0\n",
      "0.1\n",
      "0.2\n",
      "0.30000000000000004\n",
      "0.4\n",
      "0.5\n",
      "0.6000000000000001\n",
      "0.7000000000000001\n",
      "0.8\n",
      "0.9\n",
      "1.0\n"
     ]
    }
   ],
   "source": [
    "confinados = np.linspace(0.0, 1.0, num=11)\n",
    "n_realizaciones = 200\n",
    "lista_porcentaje_infectados_promedio = []\n",
    "\n",
    "for cc in confinados:\n",
    "    print(cc)\n",
    "    lista_porcentaje_infectados = []\n",
    "\n",
    "    for _ in range(n_realizaciones):\n",
    "    \n",
    "        sistema = mundo_red_NWS(n_nodos, m, p, confinados=cc)\n",
    "        infeccion_inicial(sistema)\n",
    "        propagacion_infeccion(sistema)\n",
    "        porcentaje = porcentaje_infectados(sistema)\n",
    "        lista_porcentaje_infectados.append(porcentaje)\n",
    "    \n",
    "    mean = np.mean(lista_porcentaje_infectados)\n",
    "    lista_porcentaje_infectados_promedio.append(mean)"
   ]
  },
  {
   "cell_type": "code",
   "execution_count": 26,
   "metadata": {},
   "outputs": [
    {
     "data": {
      "image/png": "[encoded data removed]",
      "text/plain": [
       "<Figure size 432x288 with 1 Axes>"
      ]
     },
     "metadata": {
      "needs_background": "light"
     },
     "output_type": "display_data"
    }
   ],
   "source": [
    "plt.plot(confinados*100,np.array(lista_porcentaje_infectados_promedio)*100)\n",
    "plt.axvline(x=59, ymin=0, ymax=1, color=\"red\")\n",
    "plt.ylabel(\"% Infectados\")\n",
    "plt.xlabel(\"% en confinamiento\")\n",
    "plt.show()"
   ]
  },
  {
   "cell_type": "markdown",
   "metadata": {},
   "source": [
    "## Barabasi - Albert"
   ]
  },
  {
   "cell_type": "code",
   "execution_count": 36,
   "metadata": {},
   "outputs": [],
   "source": [
    "n_nodos = 10000\n",
    "m = 4"
   ]
  },
  {
   "cell_type": "code",
   "execution_count": 37,
   "metadata": {},
   "outputs": [
    {
     "name": "stdout",
     "output_type": "stream",
     "text": [
      "Kmax = 274\n",
      "Kmean = 7.9968\n"
     ]
    },
    {
     "data": {
      "image/png": "[encoded data removed]",
      "text/plain": [
       "<Figure size 432x288 with 1 Axes>"
      ]
     },
     "metadata": {
      "needs_background": "light"
     },
     "output_type": "display_data"
    }
   ],
   "source": [
    "sistema = mundo_red_BA(n_nodos, m, confinados=0)\n",
    "hx,hy = distribucion_grado(sistema)\n",
    "plt.scatter(hx, hy)\n",
    "plt.xscale('log')\n",
    "plt.yscale('log')\n",
    "plt.show()"
   ]
  },
  {
   "cell_type": "code",
   "execution_count": 38,
   "metadata": {},
   "outputs": [
    {
     "name": "stdout",
     "output_type": "stream",
     "text": [
      "0.0\n",
      "0.1\n"
     ]
    },
    {
     "ename": "KeyboardInterrupt",
     "evalue": "",
     "output_type": "error",
     "traceback": [
      "\u001b[0;31m---------------------------------------------------------------------------\u001b[0m",
      "\u001b[0;31mKeyboardInterrupt\u001b[0m                         Traceback (most recent call last)",
      "\u001b[0;32m<ipython-input-38-ccab9b3acbd8>\u001b[0m in \u001b[0;36m<module>\u001b[0;34m\u001b[0m\n\u001b[1;32m      9\u001b[0m     \u001b[0;32mfor\u001b[0m \u001b[0m_\u001b[0m \u001b[0;32min\u001b[0m \u001b[0mrange\u001b[0m\u001b[0;34m(\u001b[0m\u001b[0mn_realizaciones\u001b[0m\u001b[0;34m)\u001b[0m\u001b[0;34m:\u001b[0m\u001b[0;34m\u001b[0m\u001b[0;34m\u001b[0m\u001b[0m\n\u001b[1;32m     10\u001b[0m \u001b[0;34m\u001b[0m\u001b[0m\n\u001b[0;32m---> 11\u001b[0;31m         \u001b[0msistema\u001b[0m \u001b[0;34m=\u001b[0m \u001b[0mmundo_red_BA\u001b[0m\u001b[0;34m(\u001b[0m\u001b[0mn_nodos\u001b[0m\u001b[0;34m,\u001b[0m \u001b[0mm\u001b[0m\u001b[0;34m,\u001b[0m \u001b[0mcc\u001b[0m\u001b[0;34m)\u001b[0m\u001b[0;34m\u001b[0m\u001b[0;34m\u001b[0m\u001b[0m\n\u001b[0m\u001b[1;32m     12\u001b[0m         \u001b[0minfeccion_inicial\u001b[0m\u001b[0;34m(\u001b[0m\u001b[0msistema\u001b[0m\u001b[0;34m)\u001b[0m\u001b[0;34m\u001b[0m\u001b[0;34m\u001b[0m\u001b[0m\n\u001b[1;32m     13\u001b[0m         \u001b[0mpropagacion_infeccion\u001b[0m\u001b[0;34m(\u001b[0m\u001b[0msistema\u001b[0m\u001b[0;34m)\u001b[0m\u001b[0;34m\u001b[0m\u001b[0;34m\u001b[0m\u001b[0m\n",
      "\u001b[0;32m<ipython-input-27-711a8a90c5bf>\u001b[0m in \u001b[0;36mmundo_red_BA\u001b[0;34m(n_nodos, m, confinados)\u001b[0m\n\u001b[1;32m      1\u001b[0m \u001b[0;32mdef\u001b[0m \u001b[0mmundo_red_BA\u001b[0m\u001b[0;34m(\u001b[0m\u001b[0mn_nodos\u001b[0m\u001b[0;34m,\u001b[0m \u001b[0mm\u001b[0m\u001b[0;34m,\u001b[0m \u001b[0mconfinados\u001b[0m \u001b[0;34m=\u001b[0m \u001b[0;36m0.3\u001b[0m\u001b[0;34m)\u001b[0m\u001b[0;34m:\u001b[0m\u001b[0;34m\u001b[0m\u001b[0;34m\u001b[0m\u001b[0m\n\u001b[1;32m      2\u001b[0m \u001b[0;34m\u001b[0m\u001b[0m\n\u001b[0;32m----> 3\u001b[0;31m     \u001b[0mG\u001b[0m \u001b[0;34m=\u001b[0m \u001b[0mnx\u001b[0m\u001b[0;34m.\u001b[0m\u001b[0mbarabasi_albert_graph\u001b[0m\u001b[0;34m(\u001b[0m\u001b[0mn_nodos\u001b[0m\u001b[0;34m,\u001b[0m \u001b[0mm\u001b[0m\u001b[0;34m)\u001b[0m\u001b[0;34m\u001b[0m\u001b[0;34m\u001b[0m\u001b[0m\n\u001b[0m\u001b[1;32m      4\u001b[0m     \u001b[0mnumero_nodos_confinados\u001b[0m \u001b[0;34m=\u001b[0m \u001b[0mint\u001b[0m\u001b[0;34m(\u001b[0m\u001b[0mn_nodos\u001b[0m \u001b[0;34m*\u001b[0m \u001b[0mconfinados\u001b[0m\u001b[0;34m)\u001b[0m\u001b[0;34m\u001b[0m\u001b[0;34m\u001b[0m\u001b[0m\n\u001b[1;32m      5\u001b[0m     \u001b[0mindices_nodo\u001b[0m \u001b[0;34m=\u001b[0m \u001b[0mlist\u001b[0m\u001b[0;34m(\u001b[0m\u001b[0mrange\u001b[0m\u001b[0;34m(\u001b[0m\u001b[0;36m0\u001b[0m\u001b[0;34m,\u001b[0m \u001b[0mG\u001b[0m\u001b[0;34m.\u001b[0m\u001b[0mnumber_of_nodes\u001b[0m\u001b[0;34m(\u001b[0m\u001b[0;34m)\u001b[0m\u001b[0;34m)\u001b[0m\u001b[0;34m)\u001b[0m\u001b[0;34m\u001b[0m\u001b[0;34m\u001b[0m\u001b[0m\n",
      "\u001b[0;32m<decorator-gen-711>\u001b[0m in \u001b[0;36mbarabasi_albert_graph\u001b[0;34m(n, m, seed)\u001b[0m\n",
      "\u001b[0;32m~/Myusr/opt/miniconda3/envs/UIBCDF_lab_dev/lib/python3.7/site-packages/networkx/utils/decorators.py\u001b[0m in \u001b[0;36m_random_state\u001b[0;34m(func, *args, **kwargs)\u001b[0m\n\u001b[1;32m    462\u001b[0m         \u001b[0mnew_args\u001b[0m \u001b[0;34m=\u001b[0m \u001b[0mlist\u001b[0m\u001b[0;34m(\u001b[0m\u001b[0margs\u001b[0m\u001b[0;34m)\u001b[0m\u001b[0;34m\u001b[0m\u001b[0;34m\u001b[0m\u001b[0m\n\u001b[1;32m    463\u001b[0m         \u001b[0mnew_args\u001b[0m\u001b[0;34m[\u001b[0m\u001b[0mrandom_state_index\u001b[0m\u001b[0;34m]\u001b[0m \u001b[0;34m=\u001b[0m \u001b[0mrandom_state\u001b[0m\u001b[0;34m\u001b[0m\u001b[0;34m\u001b[0m\u001b[0m\n\u001b[0;32m--> 464\u001b[0;31m         \u001b[0;32mreturn\u001b[0m \u001b[0mfunc\u001b[0m\u001b[0;34m(\u001b[0m\u001b[0;34m*\u001b[0m\u001b[0mnew_args\u001b[0m\u001b[0;34m,\u001b[0m \u001b[0;34m**\u001b[0m\u001b[0mkwargs\u001b[0m\u001b[0;34m)\u001b[0m\u001b[0;34m\u001b[0m\u001b[0;34m\u001b[0m\u001b[0m\n\u001b[0m\u001b[1;32m    465\u001b[0m     \u001b[0;32mreturn\u001b[0m \u001b[0m_random_state\u001b[0m\u001b[0;34m\u001b[0m\u001b[0;34m\u001b[0m\u001b[0m\n",
      "\u001b[0;32m~/Myusr/opt/miniconda3/envs/UIBCDF_lab_dev/lib/python3.7/site-packages/networkx/generators/random_graphs.py\u001b[0m in \u001b[0;36mbarabasi_albert_graph\u001b[0;34m(n, m, seed)\u001b[0m\n\u001b[1;32m    664\u001b[0m     \u001b[0;32mwhile\u001b[0m \u001b[0msource\u001b[0m \u001b[0;34m<\u001b[0m \u001b[0mn\u001b[0m\u001b[0;34m:\u001b[0m\u001b[0;34m\u001b[0m\u001b[0;34m\u001b[0m\u001b[0m\n\u001b[1;32m    665\u001b[0m         \u001b[0;31m# Add edges to m nodes from the source.\u001b[0m\u001b[0;34m\u001b[0m\u001b[0;34m\u001b[0m\u001b[0;34m\u001b[0m\u001b[0m\n\u001b[0;32m--> 666\u001b[0;31m         \u001b[0mG\u001b[0m\u001b[0;34m.\u001b[0m\u001b[0madd_edges_from\u001b[0m\u001b[0;34m(\u001b[0m\u001b[0mzip\u001b[0m\u001b[0;34m(\u001b[0m\u001b[0;34m[\u001b[0m\u001b[0msource\u001b[0m\u001b[0;34m]\u001b[0m \u001b[0;34m*\u001b[0m \u001b[0mm\u001b[0m\u001b[0;34m,\u001b[0m \u001b[0mtargets\u001b[0m\u001b[0;34m)\u001b[0m\u001b[0;34m)\u001b[0m\u001b[0;34m\u001b[0m\u001b[0;34m\u001b[0m\u001b[0m\n\u001b[0m\u001b[1;32m    667\u001b[0m         \u001b[0;31m# Add one node to the list for each new edge just created.\u001b[0m\u001b[0;34m\u001b[0m\u001b[0;34m\u001b[0m\u001b[0;34m\u001b[0m\u001b[0m\n\u001b[1;32m    668\u001b[0m         \u001b[0mrepeated_nodes\u001b[0m\u001b[0;34m.\u001b[0m\u001b[0mextend\u001b[0m\u001b[0;34m(\u001b[0m\u001b[0mtargets\u001b[0m\u001b[0;34m)\u001b[0m\u001b[0;34m\u001b[0m\u001b[0;34m\u001b[0m\u001b[0m\n",
      "\u001b[0;31mKeyboardInterrupt\u001b[0m: "
     ]
    }
   ],
   "source": [
    "confinados = np.linspace(0.0, 1.0, num=11)\n",
    "n_realizaciones = 200\n",
    "lista_porcentaje_infectados_promedio = []\n",
    "\n",
    "for cc in confinados:\n",
    "    print(cc)\n",
    "    lista_porcentaje_infectados = []\n",
    "\n",
    "    for _ in range(n_realizaciones):\n",
    "    \n",
    "        sistema = mundo_red_BA(n_nodos, m, cc)\n",
    "        infeccion_inicial(sistema)\n",
    "        propagacion_infeccion(sistema)\n",
    "        p = porcentaje_infectados(sistema)\n",
    "        lista_porcentaje_infectados.append(p)\n",
    "    \n",
    "    mean = np.mean(lista_porcentaje_infectados)\n",
    "    lista_porcentaje_infectados_promedio.append(mean)"
   ]
  },
  {
   "cell_type": "code",
   "execution_count": null,
   "metadata": {},
   "outputs": [],
   "source": [
    "plt.plot(confinados*100,np.array(lista_porcentaje_infectados_promedio)*100)\n",
    "plt.axvline(x=59, ymin=0, ymax=1, color=\"red\")\n",
    "plt.ylabel(\"% Infectados\")\n",
    "plt.xlabel(\"% en confinamiento\")\n",
    "plt.show()"
   ]
  },
  {
   "cell_type": "code",
   "execution_count": null,
   "metadata": {},
   "outputs": [],
   "source": []
  }
 ],
 "metadata": {
  "kernelspec": {
   "display_name": "Python 3",
   "language": "python",
   "name": "python3"
  },
  "language_info": {
   "codemirror_mode": {
    "name": "ipython",
    "version": 3
   },
   "file_extension": ".py",
   "mimetype": "text/x-python",
   "name": "python",
   "nbconvert_exporter": "python",
   "pygments_lexer": "ipython3",
   "version": "3.7.7"
  }
 },
 "nbformat": 4,
 "nbformat_minor": 4
}
